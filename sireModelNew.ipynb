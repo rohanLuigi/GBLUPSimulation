{
 "cells": [
  {
   "cell_type": "markdown",
   "metadata": {},
   "source": [
    "# Effect of increasing phenotypic data on components of IGS-SSBR evaluation"
   ]
  },
  {
   "cell_type": "markdown",
   "metadata": {
    "toc-hr-collapsed": true,
    "toc-nb-collapsed": true
   },
   "source": [
    "## Theory"
   ]
  },
  {
   "cell_type": "markdown",
   "metadata": {},
   "source": [
    "IGS-SSBR evaluation has a marker and polygenic components. This simulation will examine the accurcacy of these components as the amount of phenotypic data increases. "
   ]
  },
  {
   "cell_type": "markdown",
   "metadata": {
    "toc-hr-collapsed": true,
    "toc-nb-collapsed": true
   },
   "source": [
    "### Model"
   ]
  },
  {
   "cell_type": "markdown",
   "metadata": {},
   "source": [
    "$$\n",
    "\\begin{align}\n",
    "\\mathbf{y} &= \\mathbf{1}\\mu + \\mathbf{Z}\\mathbf{M}\\boldsymbol{\\alpha} + \\mathbf{Zu} + \\mathbf{e} \\\\\n",
    "           &= \\mathbf{1}\\mu + \\mathbf{Z}\\mathbf{g} + \\mathbf{Z}\\mathbf{u} + \\mathbf{e} \\\\\n",
    "           &= \\mathbf{1}\\mu + \\mathbf{Z}(\\mathbf{g} + \\mathbf{u}) + \\mathbf{e} \\\\\n",
    "           &= \\mathbf{1}\\mu + \\mathbf{Z}\\mathbf{a} + \\mathbf{e},\n",
    "\\end{align}\n",
    "$$"
   ]
  },
  {
   "cell_type": "markdown",
   "metadata": {},
   "source": [
    "where\n",
    "\n",
    "$$\n",
    "\\begin{align}\n",
    "\\text{Var}(\\mathbf{a}) &= \\mathbf{G}\\sigma^2_g + \\mathbf{A}\\sigma^2_u\\\\\n",
    "                       &= (\\mathbf{G}\\frac{\\sigma^2_g}{\\sigma^2_a} + \\mathbf{A}\\frac{\\sigma^2_u}{\\sigma^2_a})\\sigma^2_a\\\\\n",
    "                       &= \\mathbf{H}\\sigma^2_a,\n",
    "\\end{align}\n",
    "$$\n",
    "\n",
    "$\\mathbf{G} = \\mathbf{M}\\mathbf{M}'/(pH)$, $p$ is the number of markers, $H$ is the average heterozygosity, $\\mathbf{A}$ is the pedigree-based additive relationship matrix, and $\\sigma^2_a = \\sigma^2_g + \\sigma^2_u$.\n"
   ]
  },
  {
   "cell_type": "markdown",
   "metadata": {
    "toc-hr-collapsed": true,
    "toc-nb-collapsed": true
   },
   "source": [
    "### Mixed model equations:"
   ]
  },
  {
   "cell_type": "markdown",
   "metadata": {},
   "source": [
    "$$\n",
    "\\begin{bmatrix}\n",
    "\\mathbf{1}'\\mathbf{1} & \\mathbf{1}'\\mathbf{Z}\\\\\n",
    "\\mathbf{1}            & \\mathbf{Z'}\\mathbf{Z} + \\mathbf{H}^{-1}\\lambda \n",
    "\\end{bmatrix}\n",
    "\\begin{bmatrix}\n",
    "\\hat{\\mu} \\\\\n",
    "\\hat{\\mathbf{a}}\n",
    "\\end{bmatrix}\n",
    "= \n",
    "\\begin{bmatrix}\n",
    "\\mathbf{1}'\\mathbf{y}\\\\\n",
    "Z'\\mathbf{y}\\\\\n",
    "\\end{bmatrix},\n",
    "$$"
   ]
  },
  {
   "cell_type": "markdown",
   "metadata": {},
   "source": [
    "where $\\lambda = \\sigma^2_e/\\sigma^2_a$. BLUP of $\\mathbf{g}$ and $\\mathbf{u}$ can be obtained as:"
   ]
  },
  {
   "cell_type": "markdown",
   "metadata": {},
   "source": [
    "$$\n",
    "\\hat{\\mathbf{g}} = \\frac{\\sigma^2_g}{\\sigma^2_a}\\mathbf{G}\\mathbf{H}^{-1}\\hat{\\mathbf{a}}\n",
    "$$\n",
    "and \n",
    "$$\n",
    "\\hat{\\mathbf{u}} = \\frac{\\sigma^2_u}{\\sigma^2_a}\\mathbf{A}\\mathbf{H}^{-1}\\hat{\\mathbf{a}}\n",
    "$$"
   ]
  },
  {
   "cell_type": "code",
   "execution_count": 3,
   "metadata": {},
   "outputs": [
    {
     "data": {
      "text/plain": [
       "Plots.PyPlotBackend()"
      ]
     },
     "execution_count": 3,
     "metadata": {},
     "output_type": "execute_result"
    }
   ],
   "source": [
    "using XSim\n",
    "using JWAS\n",
    "using DelimitedFiles\n",
    "using CSV\n",
    "using Statistics\n",
    "using LinearAlgebra\n",
    "using Plots\n",
    "using Distributions\n",
    "using Random\n",
    "using Printf\n",
    "pyplot()"
   ]
  },
  {
   "cell_type": "markdown",
   "metadata": {
    "toc-hr-collapsed": true,
    "toc-nb-collapsed": true
   },
   "source": [
    "## Functions"
   ]
  },
  {
   "cell_type": "markdown",
   "metadata": {
    "toc-hr-collapsed": true,
    "toc-nb-collapsed": true
   },
   "source": [
    "### Function halfsibFamily: get pedigree for halfsib family"
   ]
  },
  {
   "cell_type": "code",
   "execution_count": 4,
   "metadata": {},
   "outputs": [
    {
     "data": {
      "text/plain": [
       "halfsibFamily (generic function with 1 method)"
      ]
     },
     "execution_count": 4,
     "metadata": {},
     "output_type": "execute_result"
    }
   ],
   "source": [
    "function halfsibFamily(n)\n",
    "    ind = 1:(1+2n)\n",
    "    sire = [0;repeat([0],n);repeat([1],n)]\n",
    "    dam  = [0;repeat([0],n);2:n+1]\n",
    "    ped = [ind sire dam]\n",
    "end"
   ]
  },
  {
   "cell_type": "markdown",
   "metadata": {
    "toc-hr-collapsed": true,
    "toc-nb-collapsed": true
   },
   "source": [
    "### Function extendPed: extend pedigree"
   ]
  },
  {
   "cell_type": "code",
   "execution_count": 5,
   "metadata": {},
   "outputs": [
    {
     "data": {
      "text/plain": [
       "extendPed (generic function with 1 method)"
      ]
     },
     "execution_count": 5,
     "metadata": {},
     "output_type": "execute_result"
    }
   ],
   "source": [
    "function extendPed(ped,ped1)\n",
    "    n = ped[end,1]\n",
    "    ind = ped1[:,1] .+ n\n",
    "    sire = [s==0 ? 0 : s+n for s in ped1[:,2]]\n",
    "    dam = [d==0 ? 0 : d+n for d in ped1[:,3]]\n",
    "    ped = [ped;\n",
    "           [ind sire dam]\n",
    "        ]\n",
    "end"
   ]
  },
  {
   "cell_type": "markdown",
   "metadata": {
    "toc-hr-collapsed": true,
    "toc-nb-collapsed": true
   },
   "source": [
    "### Function simData: simulate marker and QTL genotypes"
   ]
  },
  {
   "cell_type": "code",
   "execution_count": 6,
   "metadata": {},
   "outputs": [
    {
     "data": {
      "text/plain": [
       "simData (generic function with 1 method)"
      ]
     },
     "execution_count": 6,
     "metadata": {},
     "output_type": "execute_result"
    }
   ],
   "source": [
    "function simData(nn,qtl,mrk,h2,founders)\n",
    "\n",
    "    ped = halfsibFamily(nn[1])\n",
    "    for i in nn[2:end]\n",
    "        ped1 = halfsibFamily(i)\n",
    "        ped = extendPed(ped,ped1)\n",
    "    end\n",
    "\n",
    "    writedlm(\"ped.csv\",ped)\n",
    "\n",
    "    pedigree   = get_pedigree(\"ped.csv\",header=false,separator='\\t');\n",
    "\n",
    "    temp = Matrix(JWAS.PedModule.AInverse(pedigree));\n",
    "    indx = [pedigree.idMap[string(i)].seqID for i in 1:size(ped,1)]\n",
    "    Ai   = temp[indx,indx]\n",
    "    A    = inv(Ai);\n",
    "\n",
    "    animals = samplePed(ped,founders)\n",
    "    QM = getOurGenotypes(animals)\n",
    "\n",
    "    M = QM[:,mrk]\n",
    "    Q = QM[:,qtl]\n",
    "    n,p = size(M)\n",
    "    return Q,M,A,ped\n",
    "end"
   ]
  },
  {
   "cell_type": "markdown",
   "metadata": {},
   "source": [
    "### Function getMME: get MME"
   ]
  },
  {
   "cell_type": "code",
   "execution_count": 88,
   "metadata": {},
   "outputs": [
    {
     "data": {
      "text/plain": [
       "getMME (generic function with 1 method)"
      ]
     },
     "execution_count": 88,
     "metadata": {},
     "output_type": "execute_result"
    }
   ],
   "source": [
    "function getMME(nn,Q,M,A,ped,h2,wtMrk)\n",
    "    \n",
    "    n,p = size(M)\n",
    "    \n",
    "    sires = unique(ped[:,2])\n",
    "    sires = sires[2:end]\n",
    "    dams = unique(ped[:,3])\n",
    "    dams = dams[2:end]\n",
    "    offsp  = setdiff(ped[:,1],[sires;dams])\n",
    "    cand = [1; sires]                       # candidates\n",
    "    offsp = setdiff(offsp,cand)\n",
    "    nOffsp = size(offsp,1)\n",
    "\n",
    "    Z   = Matrix{Float64}(I,n,n)[offsp,:]\n",
    "    ZPZ = Diagonal(Z'Z);\n",
    "\n",
    "    G   = M*M'\n",
    "    Het = mean(diag(G))\n",
    "    G   = G/Het + I*0.001\n",
    "    \n",
    "    genVar = mean([dot(Q[i,:],Q[i,:]) for i=1:size(Q,1)])\n",
    "    resVar = genVar*(1-h2)/h2\n",
    "\n",
    "    var_g = genVar*wtMrk\n",
    "    var_u = genVar*(1.0-wtMrk)\n",
    "\n",
    "    H  = (G*var_g/genVar + A*var_u/genVar)\n",
    "    genVarVec = diag(H)*genVar\n",
    "    Hi = inv(H)\n",
    "    J  = ones(nOffsp)\n",
    "\n",
    "    λ  = resVar/genVar\n",
    "\n",
    "    mme = [\n",
    "    J'J J'Z\n",
    "    Z'J ZPZ+Hi*λ   \n",
    "    ]\n",
    "    Ch = cholesky(Symmetric(mme));\n",
    "    Pg = var_g/genVar*G*Hi\n",
    "    Pu = var_u/genVar*A*Hi\n",
    "    mmei = inv(Ch)\n",
    "    d = diag(mmei)\n",
    "    d = d[2:end]\n",
    "    pev = d[cand]*resVar\n",
    "    coruHatu = (genVarVec[cand] - pev) ./genVarVec[cand]\n",
    "    coruHatu = map(x->x>0.0 ? sqrt(x) : 0.0,coruHatu)\n",
    "    println(\"coruHatu\")\n",
    "    for i=1:size(nn,1)\n",
    "        @printf(\"%4d %5.2f\\n\",nn[i],coruHatu[i])\n",
    "    end\n",
    "    return Pg,Pu,Ch,J,Z,offsp,cand,genVar,resVar,coruHatu\n",
    "end"
   ]
  },
  {
   "cell_type": "markdown",
   "metadata": {},
   "source": [
    "### Function simBLUP: simulate phenotypes and get BLUPs "
   ]
  },
  {
   "cell_type": "code",
   "execution_count": 51,
   "metadata": {},
   "outputs": [
    {
     "data": {
      "text/plain": [
       "simBLUP (generic function with 1 method)"
      ]
     },
     "execution_count": 51,
     "metadata": {},
     "output_type": "execute_result"
    }
   ],
   "source": [
    "function simBLUP(Q,Pg,Pu,Ch,J,Z,n,offsp,cand,resVar)\n",
    "    α = randn(size(Q,2))\n",
    "    a = Q*α\n",
    "    y = a + randn(n)*sqrt(resVar)\n",
    "    y = y[offsp]\n",
    "    rhs = [J'y; Z'y]\n",
    "    sol = Ch\\rhs\n",
    "    aHat = sol[2:end]    # .+ sol[1]\n",
    "    gHat = Pg*aHat\n",
    "    uHat = Pu*aHat\n",
    "    #a    = a    .- mean(a)\n",
    "    #aHat = aHat .- mean(aHat)\n",
    "    #gHat = gHat .- mean(gHat)\n",
    "    #uHat = uHat .- mean(uHat)\n",
    "    [aHat gHat uHat a][cand,:]\n",
    "end"
   ]
  },
  {
   "cell_type": "markdown",
   "metadata": {
    "toc-hr-collapsed": true,
    "toc-nb-collapsed": true
   },
   "source": [
    "### Function accuracyBLUP: compupte correlations and regressions between predictor and predictants"
   ]
  },
  {
   "cell_type": "code",
   "execution_count": 9,
   "metadata": {},
   "outputs": [
    {
     "data": {
      "text/plain": [
       "accuracyBLUP (generic function with 1 method)"
      ]
     },
     "execution_count": 9,
     "metadata": {},
     "output_type": "execute_result"
    }
   ],
   "source": [
    "function accuracyBLUP(res,j)\n",
    "    pred = vcat([i[j,:]' for i in res]...)\n",
    "    cor_u_uHat = cor(pred)[1:3,4]\n",
    "    covMat = cov(pred)\n",
    "    d = diag(covMat)\n",
    "    reg_u_uHat = covMat[1:3,4] ./ d[1:3]\n",
    "    [cor_u_uHat; reg_u_uHat]\n",
    "end"
   ]
  },
  {
   "cell_type": "code",
   "execution_count": 10,
   "metadata": {},
   "outputs": [
    {
     "data": {
      "text/plain": [
       "varBLUP (generic function with 1 method)"
      ]
     },
     "execution_count": 10,
     "metadata": {},
     "output_type": "execute_result"
    }
   ],
   "source": [
    "function varBLUP(res,j)\n",
    "    pred = vcat([i[j,:]' for i in res]...)\n",
    "    cor_u_uHat = cor(pred)[1:3,4]\n",
    "    vars = var(pred,dims=1)\n",
    "end"
   ]
  },
  {
   "cell_type": "code",
   "execution_count": 11,
   "metadata": {},
   "outputs": [
    {
     "data": {
      "text/plain": [
       "covBLUP (generic function with 1 method)"
      ]
     },
     "execution_count": 11,
     "metadata": {},
     "output_type": "execute_result"
    }
   ],
   "source": [
    "function covBLUP(res,j)\n",
    "    pred = vcat([i[j,:]' for i in res]...)\n",
    "    covs = cov(pred,dims=1)\n",
    "    [covs[1:3,4]'./covs[4,4] covs[4,4]]\n",
    "end"
   ]
  },
  {
   "cell_type": "markdown",
   "metadata": {
    "toc-hr-collapsed": true,
    "toc-nb-collapsed": true
   },
   "source": [
    "## Use of XSim to Simulate Genotypes"
   ]
  },
  {
   "cell_type": "code",
   "execution_count": 12,
   "metadata": {},
   "outputs": [
    {
     "data": {
      "text/plain": [
       "0.0"
      ]
     },
     "execution_count": 12,
     "metadata": {},
     "output_type": "execute_result"
    }
   ],
   "source": [
    "chrLength = 30.0\n",
    "numChr    = 1\n",
    "numLoci   = 6000\n",
    "mutRate   = 0.0"
   ]
  },
  {
   "cell_type": "markdown",
   "metadata": {
    "toc-hr-collapsed": true,
    "toc-nb-collapsed": true
   },
   "source": [
    "### Setup of map positions for markers and QTL"
   ]
  },
  {
   "cell_type": "code",
   "execution_count": 13,
   "metadata": {},
   "outputs": [],
   "source": [
    "mapPos = fill(0,60_000)\n",
    "mrkPos = 10:20:60_000\n",
    "\n",
    "qtlPos = mrkPos .+ 1\n",
    "\n",
    "mapPos[mrkPos] .= 1\n",
    "mapPos[qtlPos] .= 2\n",
    "\n",
    "r = 30.00/60_000\n",
    "map_pos = []\n",
    "for (i,x) in enumerate(mapPos)\n",
    "    if x>0\n",
    "        push!(map_pos,i*r)\n",
    "    end\n",
    "end\n",
    "\n",
    "mrkIndx = []\n",
    "count = 0\n",
    "for x in mapPos\n",
    "    if x>0\n",
    "        count += 1\n",
    "        if x==1 \n",
    "            push!(mrkIndx,count)\n",
    "        end\n",
    "    end\n",
    "end\n",
    "\n",
    "qtlIndx = []\n",
    "count = 0\n",
    "for x in mapPos\n",
    "    if x>0\n",
    "        count += 1\n",
    "        if x==2 \n",
    "            push!(qtlIndx,count)\n",
    "        end\n",
    "    end\n",
    "end"
   ]
  },
  {
   "cell_type": "markdown",
   "metadata": {
    "toc-hr-collapsed": true,
    "toc-nb-collapsed": true
   },
   "source": [
    "### Simulation of Founders"
   ]
  },
  {
   "cell_type": "code",
   "execution_count": 14,
   "metadata": {},
   "outputs": [
    {
     "name": "stdout",
     "output_type": "stream",
     "text": [
      "G0 = Any[]\n"
     ]
    }
   ],
   "source": [
    "geneFreq = fill(0.5,numLoci)\n",
    "build_genome(numChr,chrLength,numLoci,float.(geneFreq),float.(map_pos),mutRate);"
   ]
  },
  {
   "cell_type": "code",
   "execution_count": 15,
   "metadata": {},
   "outputs": [
    {
     "name": "stdout",
     "output_type": "stream",
     "text": [
      "Sampling 100 animals into base population.\n",
      "Sampling 100 animals into base population.\n"
     ]
    }
   ],
   "source": [
    "popSizeFounder = 100\n",
    "sires = sampleFounders(popSizeFounder)\n",
    "dams  = sampleFounders(popSizeFounder);"
   ]
  },
  {
   "cell_type": "markdown",
   "metadata": {
    "toc-hr-collapsed": true,
    "toc-nb-collapsed": true
   },
   "source": [
    "### Simulation of random mating to generate LD"
   ]
  },
  {
   "cell_type": "code",
   "execution_count": 16,
   "metadata": {},
   "outputs": [
    {
     "name": "stdout",
     "output_type": "stream",
     "text": [
      "Generation     2: sampling   100 males and   100 females\n",
      "Generation     3: sampling   100 males and   100 females\n",
      "Generation     4: sampling   100 males and   100 females\n",
      "Generation     5: sampling   100 males and   100 females\n",
      "Generation     6: sampling   100 males and   100 females\n",
      "Generation     7: sampling   100 males and   100 females\n",
      "Generation     8: sampling   100 males and   100 females\n",
      "Generation     9: sampling   100 males and   100 females\n",
      "Generation    10: sampling   100 males and   100 females\n",
      "Generation    11: sampling   100 males and   100 females\n",
      "Generation    12: sampling   100 males and   100 females\n",
      "Generation    13: sampling   100 males and   100 females\n",
      "Generation    14: sampling   100 males and   100 females\n",
      "Generation    15: sampling   100 males and   100 females\n",
      "Generation    16: sampling   100 males and   100 females\n",
      "Generation    17: sampling   100 males and   100 females\n",
      "Generation    18: sampling   100 males and   100 females\n",
      "Generation    19: sampling   100 males and   100 females\n",
      "Generation    20: sampling   100 males and   100 females\n",
      "Generation    21: sampling   100 males and   100 females\n",
      "Generation    22: sampling   100 males and   100 females\n",
      "Generation    23: sampling   100 males and   100 females\n",
      "Generation    24: sampling   100 males and   100 females\n",
      "Generation    25: sampling   100 males and   100 females\n",
      "Generation    26: sampling   100 males and   100 females\n",
      "Generation    27: sampling   100 males and   100 females\n",
      "Generation    28: sampling   100 males and   100 females\n",
      "Generation    29: sampling   100 males and   100 females\n",
      "Generation    30: sampling   100 males and   100 females\n",
      "Generation    31: sampling   100 males and   100 females\n",
      "Generation    32: sampling   100 males and   100 females\n",
      "Generation    33: sampling   100 males and   100 females\n",
      "Generation    34: sampling   100 males and   100 females\n",
      "Generation    35: sampling   100 males and   100 females\n",
      "Generation    36: sampling   100 males and   100 females\n",
      "Generation    37: sampling   100 males and   100 females\n",
      "Generation    38: sampling   100 males and   100 females\n",
      "Generation    39: sampling   100 males and   100 females\n",
      "Generation    40: sampling   100 males and   100 females\n",
      "Generation    41: sampling   100 males and   100 females\n",
      "Generation    42: sampling   100 males and   100 females\n",
      "Generation    43: sampling   100 males and   100 females\n",
      "Generation    44: sampling   100 males and   100 females\n",
      "Generation    45: sampling   100 males and   100 females\n",
      "Generation    46: sampling   100 males and   100 females\n",
      "Generation    47: sampling   100 males and   100 females\n",
      "Generation    48: sampling   100 males and   100 females\n",
      "Generation    49: sampling   100 males and   100 females\n",
      "Generation    50: sampling   100 males and   100 females\n",
      "Generation    51: sampling   100 males and   100 females\n",
      "Generation    52: sampling   100 males and   100 females\n",
      "Generation    53: sampling   100 males and   100 females\n",
      "Generation    54: sampling   100 males and   100 females\n",
      "Generation    55: sampling   100 males and   100 females\n",
      "Generation    56: sampling   100 males and   100 females\n",
      "Generation    57: sampling   100 males and   100 females\n",
      "Generation    58: sampling   100 males and   100 females\n",
      "Generation    59: sampling   100 males and   100 females\n",
      "Generation    60: sampling   100 males and   100 females\n",
      "Generation    61: sampling   100 males and   100 females\n",
      "Generation    62: sampling   100 males and   100 females\n",
      "Generation    63: sampling   100 males and   100 females\n",
      "Generation    64: sampling   100 males and   100 females\n",
      "Generation    65: sampling   100 males and   100 females\n",
      "Generation    66: sampling   100 males and   100 females\n",
      "Generation    67: sampling   100 males and   100 females\n",
      "Generation    68: sampling   100 males and   100 females\n",
      "Generation    69: sampling   100 males and   100 females\n",
      "Generation    70: sampling   100 males and   100 females\n",
      "Generation    71: sampling   100 males and   100 females\n",
      "Generation    72: sampling   100 males and   100 females\n",
      "Generation    73: sampling   100 males and   100 females\n",
      "Generation    74: sampling   100 males and   100 females\n",
      "Generation    75: sampling   100 males and   100 females\n",
      "Generation    76: sampling   100 males and   100 females\n",
      "Generation    77: sampling   100 males and   100 females\n",
      "Generation    78: sampling   100 males and   100 females\n",
      "Generation    79: sampling   100 males and   100 females\n",
      "Generation    80: sampling   100 males and   100 females\n",
      "Generation    81: sampling   100 males and   100 females\n",
      "Generation    82: sampling   100 males and   100 females\n",
      "Generation    83: sampling   100 males and   100 females\n",
      "Generation    84: sampling   100 males and   100 females\n",
      "Generation    85: sampling   100 males and   100 females\n",
      "Generation    86: sampling   100 males and   100 females\n",
      "Generation    87: sampling   100 males and   100 females\n",
      "Generation    88: sampling   100 males and   100 females\n",
      "Generation    89: sampling   100 males and   100 females\n",
      "Generation    90: sampling   100 males and   100 females\n",
      "Generation    91: sampling   100 males and   100 females\n",
      "Generation    92: sampling   100 males and   100 females\n",
      "Generation    93: sampling   100 males and   100 females\n",
      "Generation    94: sampling   100 males and   100 females\n",
      "Generation    95: sampling   100 males and   100 females\n",
      "Generation    96: sampling   100 males and   100 females\n",
      "Generation    97: sampling   100 males and   100 females\n",
      "Generation    98: sampling   100 males and   100 females\n",
      "Generation    99: sampling   100 males and   100 females\n",
      "Generation   100: sampling   100 males and   100 females\n",
      "Generation   101: sampling   100 males and   100 females\n"
     ]
    }
   ],
   "source": [
    "popSize = 200\n",
    "nGen    = 100\n",
    "sires,dams,gen = sampleRan(popSize, nGen,sires,dams;gen=1);"
   ]
  },
  {
   "cell_type": "code",
   "execution_count": 17,
   "metadata": {},
   "outputs": [
    {
     "name": "stdout",
     "output_type": "stream",
     "text": [
      "Generation   102: sampling   500 males and   500 females\n"
     ]
    }
   ],
   "source": [
    "popSize = 1000\n",
    "nGen    = 1\n",
    "sires,dams,gen = sampleRan(popSize, nGen,sires,dams;gen=gen);"
   ]
  },
  {
   "cell_type": "code",
   "execution_count": 18,
   "metadata": {},
   "outputs": [],
   "source": [
    "parents=concatCohorts(sires,dams);"
   ]
  },
  {
   "cell_type": "markdown",
   "metadata": {
    "toc-hr-collapsed": true,
    "toc-nb-collapsed": true
   },
   "source": [
    "### Simulation of genotypes"
   ]
  },
  {
   "cell_type": "code",
   "execution_count": 19,
   "metadata": {},
   "outputs": [
    {
     "name": "stdout",
     "output_type": "stream",
     "text": [
      "\u001b[32mThe delimiter in ped.csv is '\t'.\u001b[39m\n"
     ]
    },
    {
     "name": "stderr",
     "output_type": "stream",
     "text": [
      "\u001b[32mcoding pedigree... 100%|████████████████████████████████| Time: 0:00:00\u001b[39m\n",
      "\u001b[32mcalculating inbreeding... 100%|█████████████████████████| Time: 0:00:00\u001b[39m\n"
     ]
    },
    {
     "name": "stdout",
     "output_type": "stream",
     "text": [
      "Pedigree informatin:\n",
      "#individuals: 1585\n",
      "#sires:       8\n",
      "#dams:        788\n",
      "#founders:    797\n"
     ]
    }
   ],
   "source": [
    "Random.seed!(31415926123);\n",
    "nn = [0,1,2,10,25,50,100,200,400]\n",
    "h2 = 0.25\n",
    "wtMrk = 1.0\n",
    "Q,M,A,ped = simData(nn,qtlIndx,mrkIndx,h2,parents);"
   ]
  },
  {
   "cell_type": "code",
   "execution_count": 20,
   "metadata": {},
   "outputs": [
    {
     "data": {
      "text/plain": [
       "1.0077846477392218"
      ]
     },
     "execution_count": 20,
     "metadata": {},
     "output_type": "execute_result"
    }
   ],
   "source": [
    "mean(Q)"
   ]
  },
  {
   "cell_type": "code",
   "execution_count": 21,
   "metadata": {},
   "outputs": [],
   "source": [
    "Qc = Q .- mean(Q,dims=1)\n",
    "Mc = M .- mean(M,dims=1);"
   ]
  },
  {
   "cell_type": "markdown",
   "metadata": {},
   "source": [
    "## Simulation of BLUP Evaluations"
   ]
  },
  {
   "cell_type": "markdown",
   "metadata": {},
   "source": [
    "### Weights for marker and pedigree components: 1.0, 0.0"
   ]
  },
  {
   "cell_type": "code",
   "execution_count": 92,
   "metadata": {},
   "outputs": [
    {
     "name": "stdout",
     "output_type": "stream",
     "text": [
      "coruHatu\n",
      "   0  0.41\n",
      "   1  0.45\n",
      "   2  0.51\n",
      "  10  0.68\n",
      "  25  0.80\n",
      "  50  0.86\n",
      " 100  0.90\n",
      " 200  0.92\n",
      " 400  0.92\n"
     ]
    }
   ],
   "source": [
    "wtMrk = 1.0\n",
    "Pg,Pu,Ch,J,Z,offsp,cand,genVar,resVar,coruHatu =  getMME(nn,Qc,Mc,A,ped,h2,wtMrk);"
   ]
  },
  {
   "cell_type": "code",
   "execution_count": 93,
   "metadata": {},
   "outputs": [
    {
     "data": {
      "text/plain": [
       "9×7 Array{Float64,2}:\n",
       "   0.0  0.320613  0.320613  NaN  0.780689  0.780689  NaN\n",
       "   1.0  0.351422  0.351422  NaN  0.796203  0.796203  NaN\n",
       "   2.0  0.456769  0.456769  NaN  0.929951  0.929951  NaN\n",
       "  10.0  0.664682  0.664682  NaN  1.00675   1.00675   NaN\n",
       "  25.0  0.781675  0.781675  NaN  0.984394  0.984394  NaN\n",
       "  50.0  0.857616  0.857616  NaN  1.00101   1.00101   NaN\n",
       " 100.0  0.894532  0.894532  NaN  0.997656  0.997656  NaN\n",
       " 200.0  0.914775  0.914775  NaN  1.00142   1.00142   NaN\n",
       " 400.0  0.913499  0.913499  NaN  0.99095   0.99095   NaN"
      ]
     },
     "execution_count": 93,
     "metadata": {},
     "output_type": "execute_result"
    }
   ],
   "source": [
    "nReps = 10_000\n",
    "n   = size(Q,1)\n",
    "res = [simBLUP(Qc,Pg,Pu,Ch,J,Z,n,offsp,cand,resVar) for i=1:nReps]\n",
    "resAccuracy = [accuracyBLUP(res,j) for j=1:size(cand,1)]\n",
    "corrReg = hcat(resAccuracy...)'\n",
    "[nn corrReg]"
   ]
  },
  {
   "cell_type": "code",
   "execution_count": 94,
   "metadata": {},
   "outputs": [
    {
     "data": {
      "image/png": "[encoded data removed]"
     },
     "execution_count": 94,
     "metadata": {},
     "output_type": "execute_result"
    }
   ],
   "source": [
    "plot(nn,[coruHatu corrReg[:,1]])"
   ]
  },
  {
   "cell_type": "code",
   "execution_count": 95,
   "metadata": {},
   "outputs": [
    {
     "data": {
      "text/plain": [
       "9×5 Array{Float64,2}:\n",
       "   0.0  0.131669  0.131669  0.0  1119.15 \n",
       "   1.0  0.155108  0.155108  0.0  1149.02 \n",
       "   2.0  0.224353  0.224353  0.0  1223.98 \n",
       "  10.0  0.43884   0.43884   0.0  1183.26 \n",
       "  25.0  0.620702  0.620702  0.0  1149.47 \n",
       "  50.0  0.734761  0.734761  0.0  1159.73 \n",
       " 100.0  0.802067  0.802067  0.0  1162.17 \n",
       " 200.0  0.835627  0.835627  0.0  1101.23 \n",
       " 400.0  0.842101  0.842101  0.0   895.359"
      ]
     },
     "execution_count": 95,
     "metadata": {},
     "output_type": "execute_result"
    }
   ],
   "source": [
    "covMat = [nn vcat([covBLUP(res,i) for i=1:9]...)]"
   ]
  },
  {
   "cell_type": "code",
   "execution_count": 96,
   "metadata": {},
   "outputs": [],
   "source": [
    "res100 = [coruHatu, corrReg, covMat];"
   ]
  },
  {
   "cell_type": "markdown",
   "metadata": {},
   "source": [
    "### Weights for marker and pedigree components: 0.95, 0.05"
   ]
  },
  {
   "cell_type": "code",
   "execution_count": 97,
   "metadata": {},
   "outputs": [
    {
     "name": "stdout",
     "output_type": "stream",
     "text": [
      "coruHatu\n",
      "   0  0.39\n",
      "   1  0.44\n",
      "   2  0.49\n",
      "  10  0.67\n",
      "  25  0.79\n",
      "  50  0.86\n",
      " 100  0.90\n",
      " 200  0.91\n",
      " 400  0.92\n"
     ]
    }
   ],
   "source": [
    "wtMrk = 0.95\n",
    "Pg,Pu,Ch,J,Z,offsp,cand,genVar,resVar,coruHatu =  getMME(nn,Qc,Mc,A,ped,h2,wtMrk);"
   ]
  },
  {
   "cell_type": "code",
   "execution_count": 98,
   "metadata": {},
   "outputs": [
    {
     "data": {
      "text/plain": [
       "9×7 Array{Float64,2}:\n",
       "   0.0  0.315623  0.315623  -0.0221897  0.781113  0.781113  -3.23675e14\n",
       "   1.0  0.359904  0.359025   0.206266   0.827613  0.837482  16.3714    \n",
       "   2.0  0.448452  0.446808   0.324093   0.938927  0.956399  19.2653    \n",
       "  10.0  0.661756  0.660177   0.576622   1.01      1.0497    18.0835    \n",
       "  25.0  0.790701  0.790065   0.714394   0.999611  1.04488   18.1887    \n",
       "  50.0  0.852845  0.852346   0.787675   1.00051   1.04629   19.0191    \n",
       " 100.0  0.895584  0.895131   0.803806   0.995472  1.04132   17.8218    \n",
       " 200.0  0.916191  0.915738   0.844772   1.00743   1.05841   17.4413    \n",
       " 400.0  0.910723  0.910016   0.838198   0.976957  1.02944   15.7771    "
      ]
     },
     "execution_count": 98,
     "metadata": {},
     "output_type": "execute_result"
    }
   ],
   "source": [
    "nReps = 10_000\n",
    "n   = size(Q,1)\n",
    "res = [simBLUP(Qc,Pg,Pu,Ch,J,Z,n,offsp,cand,resVar) for i=1:nReps]\n",
    "resAccuracy = [accuracyBLUP(res,j) for j=1:size(cand,1)]\n",
    "corrReg = hcat(resAccuracy...)'\n",
    "[nn corrReg]"
   ]
  },
  {
   "cell_type": "code",
   "execution_count": 99,
   "metadata": {},
   "outputs": [
    {
     "data": {
      "image/png": "[encoded data removed]"
     },
     "execution_count": 99,
     "metadata": {},
     "output_type": "execute_result"
    }
   ],
   "source": [
    "plot(nn,[coruHatu corrReg[:,1]])"
   ]
  },
  {
   "cell_type": "code",
   "execution_count": 100,
   "metadata": {},
   "outputs": [
    {
     "data": {
      "text/plain": [
       "9×5 Array{Float64,2}:\n",
       "   0.0  0.127534  0.127534  -1.52123e-18  1081.79 \n",
       "   1.0  0.156512  0.153913   0.00259877   1123.84 \n",
       "   2.0  0.214191  0.208739   0.00545211   1204.08 \n",
       "  10.0  0.433585  0.415198   0.0183865    1179.81 \n",
       "  25.0  0.625452  0.597393   0.0280591    1173.35 \n",
       "  50.0  0.726973  0.694351   0.0326215    1159.23 \n",
       " 100.0  0.805718  0.769465   0.0362536    1127.14 \n",
       " 200.0  0.833215  0.792298   0.0409167    1104.33 \n",
       " 400.0  0.84898   0.804448   0.0445315     867.404"
      ]
     },
     "execution_count": 100,
     "metadata": {},
     "output_type": "execute_result"
    }
   ],
   "source": [
    "covMat = [nn vcat([covBLUP(res,i) for i=1:9]...)]"
   ]
  },
  {
   "cell_type": "code",
   "execution_count": 101,
   "metadata": {},
   "outputs": [],
   "source": [
    "res95 = [coruHatu, corrReg, covMat];"
   ]
  },
  {
   "cell_type": "markdown",
   "metadata": {},
   "source": [
    "### Weights for marker and pedigree components: 0.5, 0.5"
   ]
  },
  {
   "cell_type": "code",
   "execution_count": 102,
   "metadata": {},
   "outputs": [
    {
     "name": "stdout",
     "output_type": "stream",
     "text": [
      "coruHatu\n",
      "   0  0.22\n",
      "   1  0.32\n",
      "   2  0.40\n",
      "  10  0.63\n",
      "  25  0.76\n",
      "  50  0.83\n",
      " 100  0.87\n",
      " 200  0.89\n",
      " 400  0.89\n"
     ]
    }
   ],
   "source": [
    "wtMrk = 0.5\n",
    "Pg,Pu,Ch,J,Z,offsp,cand,genVar,resVar,coruHatu =  getMME(nn,Qc,Mc,A,ped,h2,wtMrk);"
   ]
  },
  {
   "cell_type": "code",
   "execution_count": 103,
   "metadata": {},
   "outputs": [
    {
     "data": {
      "text/plain": [
       "9×7 Array{Float64,2}:\n",
       "   0.0  0.297245  0.297245  -0.000676473  1.27919   1.27919  -5.77096e12\n",
       "   1.0  0.364331  0.368779   0.225209     1.11311   1.48888   1.81743   \n",
       "   2.0  0.464943  0.458464   0.358773     1.15979   1.65423   2.16962   \n",
       "  10.0  0.661383  0.650213   0.60147      1.0543    1.81007   1.9951    \n",
       "  25.0  0.782923  0.769447   0.741424     1.02639   1.82461   2.01557   \n",
       "  50.0  0.85402   0.841976   0.825615     1.01686   1.8241    2.07428   \n",
       " 100.0  0.897616  0.883532   0.855103     1.02432   1.80037   2.07144   \n",
       " 200.0  0.909968  0.895754   0.87686      0.991399  1.83523   1.93178   \n",
       " 400.0  0.911446  0.89622    0.880134     0.95393   1.80643   1.81749   "
      ]
     },
     "execution_count": 103,
     "metadata": {},
     "output_type": "execute_result"
    }
   ],
   "source": [
    "nReps = 10_000\n",
    "n   = size(Q,1)\n",
    "res = [simBLUP(Qc,Pg,Pu,Ch,J,Z,n,offsp,cand,resVar) for i=1:nReps]\n",
    "resAccuracy = [accuracyBLUP(res,j) for j=1:size(cand,1)]\n",
    "corrReg = hcat(resAccuracy...)'\n",
    "[nn corrReg]"
   ]
  },
  {
   "cell_type": "code",
   "execution_count": 104,
   "metadata": {},
   "outputs": [
    {
     "data": {
      "image/png": "[encoded data removed]"
     },
     "execution_count": 104,
     "metadata": {},
     "output_type": "execute_result"
    }
   ],
   "source": [
    "plot(nn,[coruHatu corrReg[:,1]])"
   ]
  },
  {
   "cell_type": "code",
   "execution_count": 105,
   "metadata": {},
   "outputs": [
    {
     "data": {
      "text/plain": [
       "9×5 Array{Float64,2}:\n",
       "   0.0  0.0690705  0.0690705  -7.92964e-20  1131.39 \n",
       "   1.0  0.11925    0.0913424   0.0279072    1137.68 \n",
       "   2.0  0.186389   0.127061    0.0593275    1210.16 \n",
       "  10.0  0.414897   0.23357     0.181328     1160.05 \n",
       "  25.0  0.597211   0.324479    0.272732     1172.13 \n",
       "  50.0  0.717259   0.388643    0.328616     1159.24 \n",
       " 100.0  0.786583   0.433592    0.352991     1157.55 \n",
       " 200.0  0.835225   0.437207    0.398018     1074.01 \n",
       " 400.0  0.870853   0.444641    0.426212      907.048"
      ]
     },
     "execution_count": 105,
     "metadata": {},
     "output_type": "execute_result"
    }
   ],
   "source": [
    "covMat = [nn vcat([covBLUP(res,i) for i=1:9]...)]"
   ]
  },
  {
   "cell_type": "code",
   "execution_count": 106,
   "metadata": {},
   "outputs": [],
   "source": [
    "res50 = [coruHatu, corrReg, covMat];"
   ]
  },
  {
   "cell_type": "markdown",
   "metadata": {},
   "source": [
    "### Weights for marker and pedigree components: 0.0, 1.0"
   ]
  },
  {
   "cell_type": "code",
   "execution_count": 107,
   "metadata": {},
   "outputs": [
    {
     "name": "stdout",
     "output_type": "stream",
     "text": [
      "coruHatu\n",
      "   0  0.00\n",
      "   1  0.25\n",
      "   2  0.34\n",
      "  10  0.61\n",
      "  25  0.74\n",
      "  50  0.80\n",
      " 100  0.84\n",
      " 200  0.86\n",
      " 400  0.88\n"
     ]
    }
   ],
   "source": [
    "wtMrk = 0.0\n",
    "Pg,Pu,Ch,J,Z,offsp,cand,genVar,resVar,coruHatu =  getMME(nn,Qc,Mc,A,ped,h2,wtMrk);"
   ]
  },
  {
   "cell_type": "code",
   "execution_count": 108,
   "metadata": {},
   "outputs": [
    {
     "data": {
      "text/plain": [
       "9×7 Array{Float64,2}:\n",
       "   0.0  NaN         NaN  NaN         NaN         NaN  NaN       \n",
       "   1.0    0.249701  NaN    0.249701    0.991986  NaN    0.991986\n",
       "   2.0    0.370423  NaN    0.370423    1.10663   NaN    1.10663 \n",
       "  10.0    0.623434  NaN    0.623434    1.04952   NaN    1.04952 \n",
       "  25.0    0.769185  NaN    0.769185    1.05995   NaN    1.05995 \n",
       "  50.0    0.845353  NaN    0.845353    1.0413    NaN    1.0413  \n",
       " 100.0    0.887155  NaN    0.887155    1.02686   NaN    1.02686 \n",
       " 200.0    0.903331  NaN    0.903331    0.983922  NaN    0.983922\n",
       " 400.0    0.907534  NaN    0.907534    0.902145  NaN    0.902145"
      ]
     },
     "execution_count": 108,
     "metadata": {},
     "output_type": "execute_result"
    }
   ],
   "source": [
    "nReps = 10_000\n",
    "n   = size(Q,1)\n",
    "res = [simBLUP(Qc,Pg,Pu,Ch,J,Z,n,offsp,cand,resVar) for i=1:nReps]\n",
    "resAccuracy = [accuracyBLUP(res,j) for j=1:size(cand,1)]\n",
    "corrReg = hcat(resAccuracy...)'\n",
    "[nn corrReg]"
   ]
  },
  {
   "cell_type": "code",
   "execution_count": 109,
   "metadata": {},
   "outputs": [
    {
     "data": {
      "image/png": "[encoded data removed]"
     },
     "execution_count": 109,
     "metadata": {},
     "output_type": "execute_result"
    }
   ],
   "source": [
    "plot(nn,[coruHatu corrReg[:,1]])"
   ]
  },
  {
   "cell_type": "code",
   "execution_count": 110,
   "metadata": {},
   "outputs": [
    {
     "data": {
      "text/plain": [
       "9×5 Array{Float64,2}:\n",
       "   0.0  0.0        0.0  0.0        1117.97 \n",
       "   1.0  0.0628542  0.0  0.0628542  1119.27 \n",
       "   2.0  0.123992   0.0  0.123992   1188.35 \n",
       "  10.0  0.370332   0.0  0.370332   1161.37 \n",
       "  25.0  0.558183   0.0  0.558183   1180.55 \n",
       "  50.0  0.686281   0.0  0.686281   1162.75 \n",
       " 100.0  0.766457   0.0  0.766457   1152.08 \n",
       " 200.0  0.829341   0.0  0.829341   1104.95 \n",
       " 400.0  0.912956   0.0  0.912956    898.515"
      ]
     },
     "execution_count": 110,
     "metadata": {},
     "output_type": "execute_result"
    }
   ],
   "source": [
    "covMat = [nn vcat([covBLUP(res,i) for i=1:9]...)]"
   ]
  }
 ],
 "metadata": {
  "kernelspec": {
   "display_name": "Julia 1.5.2",
   "language": "julia",
   "name": "julia-1.5"
  },
  "language_info": {
   "file_extension": ".jl",
   "mimetype": "application/julia",
   "name": "julia",
   "version": "1.5.2"
  },
  "toc-autonumbering": false,
  "toc-showtags": false
 },
 "nbformat": 4,
 "nbformat_minor": 4
}
